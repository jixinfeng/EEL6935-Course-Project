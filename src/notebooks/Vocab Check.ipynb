{
 "cells": [
  {
   "cell_type": "markdown",
   "metadata": {},
   "source": [
    "# Dataset Analysis -- *might not run*\n",
    "Just some quick work to look at the spread of word frequencies in the training data. Also wanted to compare two tokenization methods."
   ]
  },
  {
   "cell_type": "code",
   "execution_count": 398,
   "metadata": {},
   "outputs": [],
   "source": [
    "import numpy as np\n",
    "import matplotlib.pyplot as plt\n",
    "import pandas as pd\n",
    "import sys\n",
    "sys.path.append('..')\n",
    "from lstm_preprocess import load_reviews_folder"
   ]
  },
  {
   "cell_type": "code",
   "execution_count": 399,
   "metadata": {},
   "outputs": [],
   "source": [
    "bad_train_dict = np.load('../data/dataset_full_dict.npy').item()\n",
    "bad_test_dict = np.load('../data/dataset_full_test_dict.npy').item()"
   ]
  },
  {
   "cell_type": "code",
   "execution_count": 403,
   "metadata": {},
   "outputs": [
    {
     "name": "stdout",
     "output_type": "stream",
     "text": [
      "Train dict size:  87797\n",
      "Test dict size:  112664\n"
     ]
    }
   ],
   "source": [
    "train_words = set(bad_train_dict.keys())\n",
    "test_words = set(bad_test_dict.keys())\n",
    "\n",
    "print(\"Train dict size: \", len(train_words))\n",
    "print(\"Test dict size: \", len(test_words))"
   ]
  },
  {
   "cell_type": "code",
   "execution_count": 404,
   "metadata": {},
   "outputs": [
    {
     "data": {
      "text/plain": [
       "['39/40',\n",
       " 'movie-company',\n",
       " 'tribe.the',\n",
       " 'mildly',\n",
       " 'ossie',\n",
       " 'tight..every',\n",
       " 'rochfort',\n",
       " 'misshapenly-featured',\n",
       " 'critisism',\n",
       " 'besxt']"
      ]
     },
     "execution_count": 404,
     "metadata": {},
     "output_type": "execute_result"
    }
   ],
   "source": [
    "import random\n",
    "random.sample(train_words, 10)"
   ]
  },
  {
   "cell_type": "code",
   "execution_count": 405,
   "metadata": {},
   "outputs": [],
   "source": [
    "one_shot = test_words - train_words"
   ]
  },
  {
   "cell_type": "code",
   "execution_count": 406,
   "metadata": {},
   "outputs": [
    {
     "name": "stdout",
     "output_type": "stream",
     "text": [
      "There were 24867 unique words not seen in the test data\n"
     ]
    }
   ],
   "source": [
    "print(\"There were %d unique words not seen in the test data\" % len(one_shot))"
   ]
  },
  {
   "cell_type": "code",
   "execution_count": 407,
   "metadata": {},
   "outputs": [
    {
     "name": "stdout",
     "output_type": "stream",
     "text": [
      "i.e. 22.07% of the test vocab.\n"
     ]
    }
   ],
   "source": [
    "print(\"i.e. %.2f%% of the test vocab.\" % (100 * len(one_shot) / len(test_words)))"
   ]
  },
  {
   "cell_type": "code",
   "execution_count": 408,
   "metadata": {},
   "outputs": [],
   "source": [
    "import os\n",
    "import re\n",
    "from nltk import word_tokenize\n",
    "def load_reviews_text(folder, num_reviews=0):\n",
    "    filenames = os.listdir(folder)\n",
    "    if num_reviews != 0:\n",
    "        assert num_reviews <= len(filenames)\n",
    "        filenames = random.sample(filenames, num_reviews)\n",
    "\n",
    "    def get_next_review():\n",
    "        for filename in filenames:\n",
    "            score = int(re.search('.*_([0-9]+)\\.txt', filename).group(1))\n",
    "            with open(os.path.join(folder, filename)) as f:\n",
    "                text = f.read()\n",
    "            yield score, text\n",
    "\n",
    "    return len(filenames), get_next_review"
   ]
  },
  {
   "cell_type": "code",
   "execution_count": 409,
   "metadata": {},
   "outputs": [],
   "source": [
    "def load_reviews(filename):\n",
    "    review_sets = [\n",
    "        filename+\"/pos\",\n",
    "        filename+\"/neg\"\n",
    "    ]\n",
    "    \n",
    "    for review_set in review_sets:\n",
    "        _, get_review = load_reviews_text(review_set)\n",
    "        for review in get_review():\n",
    "            yield review"
   ]
  },
  {
   "cell_type": "code",
   "execution_count": 410,
   "metadata": {},
   "outputs": [
    {
     "name": "stdout",
     "output_type": "stream",
     "text": [
      "Loaded 25000 reviews\n"
     ]
    }
   ],
   "source": [
    "train_reviews = list(load_reviews(\"../data/aclImdb/train\"))\n",
    "print(\"Loaded %d reviews\" % len(train_reviews))"
   ]
  },
  {
   "cell_type": "code",
   "execution_count": 411,
   "metadata": {},
   "outputs": [],
   "source": [
    "df = pd.DataFrame(train_reviews, columns=['scores','text'])\n",
    "df['text_worse'] = df.text.apply(lambda text: word_tokenize(text.lower()))\n",
    "#  better, because word_tokenize needs to see the case of letters\n",
    "df['text_better'] = df.text.apply(lambda text: word_tokenize(text.replace('/', ' / ').replace('-', ' - ').replace('.', ' . ')\n",
    "                                                           .replace('\"', ' \" '). replace(\"''\", \"' '\")))"
   ]
  },
  {
   "cell_type": "code",
   "execution_count": 412,
   "metadata": {},
   "outputs": [
    {
     "data": {
      "text/html": [
       "<div>\n",
       "<table border=\"1\" class=\"dataframe\">\n",
       "  <thead>\n",
       "    <tr style=\"text-align: right;\">\n",
       "      <th></th>\n",
       "      <th>scores</th>\n",
       "      <th>text</th>\n",
       "      <th>text_worse</th>\n",
       "      <th>text_better</th>\n",
       "    </tr>\n",
       "  </thead>\n",
       "  <tbody>\n",
       "    <tr>\n",
       "      <th>0</th>\n",
       "      <td>9</td>\n",
       "      <td>For a movie that gets no respect there sure ar...</td>\n",
       "      <td>[for, a, movie, that, gets, no, respect, there...</td>\n",
       "      <td>[For, a, movie, that, gets, no, respect, there...</td>\n",
       "    </tr>\n",
       "    <tr>\n",
       "      <th>1</th>\n",
       "      <td>8</td>\n",
       "      <td>Bizarre horror movie filled with famous faces ...</td>\n",
       "      <td>[bizarre, horror, movie, filled, with, famous,...</td>\n",
       "      <td>[Bizarre, horror, movie, filled, with, famous,...</td>\n",
       "    </tr>\n",
       "    <tr>\n",
       "      <th>2</th>\n",
       "      <td>7</td>\n",
       "      <td>A solid, if unremarkable film. Matthau, as Ein...</td>\n",
       "      <td>[a, solid, ,, if, unremarkable, film, ., matth...</td>\n",
       "      <td>[A, solid, ,, if, unremarkable, film, ., Matth...</td>\n",
       "    </tr>\n",
       "    <tr>\n",
       "      <th>3</th>\n",
       "      <td>8</td>\n",
       "      <td>It's a strange feeling to sit alone in a theat...</td>\n",
       "      <td>[it, 's, a, strange, feeling, to, sit, alone, ...</td>\n",
       "      <td>[It, 's, a, strange, feeling, to, sit, alone, ...</td>\n",
       "    </tr>\n",
       "    <tr>\n",
       "      <th>4</th>\n",
       "      <td>10</td>\n",
       "      <td>You probably all already know this by now, but...</td>\n",
       "      <td>[you, probably, all, already, know, this, by, ...</td>\n",
       "      <td>[You, probably, all, already, know, this, by, ...</td>\n",
       "    </tr>\n",
       "  </tbody>\n",
       "</table>\n",
       "</div>"
      ],
      "text/plain": [
       "   scores                                               text  \\\n",
       "0       9  For a movie that gets no respect there sure ar...   \n",
       "1       8  Bizarre horror movie filled with famous faces ...   \n",
       "2       7  A solid, if unremarkable film. Matthau, as Ein...   \n",
       "3       8  It's a strange feeling to sit alone in a theat...   \n",
       "4      10  You probably all already know this by now, but...   \n",
       "\n",
       "                                          text_worse  \\\n",
       "0  [for, a, movie, that, gets, no, respect, there...   \n",
       "1  [bizarre, horror, movie, filled, with, famous,...   \n",
       "2  [a, solid, ,, if, unremarkable, film, ., matth...   \n",
       "3  [it, 's, a, strange, feeling, to, sit, alone, ...   \n",
       "4  [you, probably, all, already, know, this, by, ...   \n",
       "\n",
       "                                         text_better  \n",
       "0  [For, a, movie, that, gets, no, respect, there...  \n",
       "1  [Bizarre, horror, movie, filled, with, famous,...  \n",
       "2  [A, solid, ,, if, unremarkable, film, ., Matth...  \n",
       "3  [It, 's, a, strange, feeling, to, sit, alone, ...  \n",
       "4  [You, probably, all, already, know, this, by, ...  "
      ]
     },
     "execution_count": 412,
     "metadata": {},
     "output_type": "execute_result"
    }
   ],
   "source": [
    "df.head()"
   ]
  },
  {
   "cell_type": "markdown",
   "metadata": {},
   "source": [
    "# Histogram of Review Lengths \n",
    "We truncate to length 200 (red line)"
   ]
  },
  {
   "cell_type": "code",
   "execution_count": 413,
   "metadata": {},
   "outputs": [
    {
     "data": {
      "image/png": "[encoded data removed]",
      "text/plain": [
       "<matplotlib.figure.Figure at 0x1d1d04cc0>"
      ]
     },
     "metadata": {},
     "output_type": "display_data"
    }
   ],
   "source": [
    "df['length_better'] = df['text_better'].apply(lambda x: len(x))\n",
    "df['length_better'].hist(bins=100, log=True)\n",
    "plt.title('Histogram of Review Lengths (better tokenization)')\n",
    "plt.axvline(x=200, color='red')\n",
    "plt.show()"
   ]
  },
  {
   "cell_type": "code",
   "execution_count": 414,
   "metadata": {
    "scrolled": true
   },
   "outputs": [
    {
     "data": {
      "image/png": "[encoded data removed]",
      "text/plain": [
       "<matplotlib.figure.Figure at 0x1d1e8c828>"
      ]
     },
     "metadata": {},
     "output_type": "display_data"
    }
   ],
   "source": [
    "df['length_worse'] = df['text_worse'].apply(lambda x: len(x))\n",
    "df['length_worse'].hist(bins=100, log=True)\n",
    "plt.title('Histogram of Review Lengths (worse tokenization)')\n",
    "plt.axvline(x=200, color='red')\n",
    "plt.show()"
   ]
  },
  {
   "cell_type": "markdown",
   "metadata": {},
   "source": [
    "# percent of unknown words in reviews after removing top-k"
   ]
  },
  {
   "cell_type": "code",
   "execution_count": 415,
   "metadata": {},
   "outputs": [],
   "source": [
    "def percent_unknown(reviews, wordcounts, k):\n",
    "    sorted_wcs = sorted(wordcounts, key=lambda x: x[1])\n",
    "    words_unknown = sum([count for _, count in sorted_wcs[:k]])\n",
    "    total = sum([count for _, count in sorted_wcs])\n",
    "    return words_unknown/total"
   ]
  },
  {
   "cell_type": "code",
   "execution_count": 416,
   "metadata": {},
   "outputs": [
    {
     "data": {
      "text/plain": [
       "0.00022987792332881623"
      ]
     },
     "execution_count": 416,
     "metadata": {},
     "output_type": "execute_result"
    }
   ],
   "source": [
    "percent_unknown(df['text_better'], wordcounts_try2.items(), 1000)"
   ]
  },
  {
   "cell_type": "code",
   "execution_count": 417,
   "metadata": {},
   "outputs": [],
   "source": [
    "import math\n",
    "def plot_unknown(reviews, wordcounts, start=0, end=100, log=False, ylim=None, title=''):\n",
    "    X = []\n",
    "    Y = []\n",
    "    vocab_size = len(wordcounts)\n",
    "    for i in np.linspace(start, end, 100):\n",
    "        k = int(i/100 * vocab_size)\n",
    "        X.append(k)\n",
    "        if log:\n",
    "            Y.append(math.log(.000000000000000001+percent_unknown(reviews, wordcounts, k)))\n",
    "        else:\n",
    "            Y.append(percent_unknown(reviews, wordcounts, k))\n",
    "    if ylim:\n",
    "        plt.ylim(ylim)\n",
    "    plt.title(title)\n",
    "    plt.plot(X, Y)\n",
    "    plt.show()"
   ]
  },
  {
   "cell_type": "code",
   "execution_count": 383,
   "metadata": {},
   "outputs": [
    {
     "data": {
      "image/png": "[encoded data removed]",
      "text/plain": [
       "<matplotlib.figure.Figure at 0x1d3b78cf8>"
      ]
     },
     "metadata": {},
     "output_type": "display_data"
    }
   ],
   "source": [
    "plot_unknown(df['text_better'], wordcounts_try2.items(), log=False, title=\"Dataset covered by lask k words\")"
   ]
  },
  {
   "cell_type": "code",
   "execution_count": 418,
   "metadata": {},
   "outputs": [
    {
     "data": {
      "image/png": "[encoded data removed]",
      "text/plain": [
       "<matplotlib.figure.Figure at 0x1d3028128>"
      ]
     },
     "metadata": {},
     "output_type": "display_data"
    }
   ],
   "source": [
    "plot_unknown(df['text_better'], wordcounts_try2.items(), start=0, end=100, ylim=[0, 0.02], title=\"Dataset covered by lask k words\")"
   ]
  },
  {
   "cell_type": "code",
   "execution_count": 419,
   "metadata": {},
   "outputs": [],
   "source": [
    "def plot_avg_counts_by_perc(sorted_wc, ylim=None):\n",
    "    X = np.linspace(0, 1)\n",
    "    Y = []\n",
    "    for x in X:\n",
    "        Y.append(sorted_wc[int(x*(len(sorted_wc)-1))][1])\n",
    "    if ylim:\n",
    "        plt.ylim(ylim)\n",
    "    plt.plot(X,Y)\n",
    "    plt.show()"
   ]
  },
  {
   "cell_type": "code",
   "execution_count": 129,
   "metadata": {},
   "outputs": [],
   "source": [
    "from collections import defaultdict\n",
    "def get_wordcounts(reviews, max_len=None):\n",
    "    word_counts = defaultdict(int)\n",
    "    for review in reviews:\n",
    "        truncated = review[:max_len]\n",
    "        for word in truncated:\n",
    "            word_counts[word.lower()] += 1\n",
    "    return dict(word_counts)"
   ]
  },
  {
   "cell_type": "code",
   "execution_count": 233,
   "metadata": {},
   "outputs": [],
   "source": [
    "wordcounts_better = get_wordcounts(df['text_better'], max_len=200)\n",
    "wordcounts_worse = get_wordcounts(df['text_worse'], max_len=200)"
   ]
  },
  {
   "cell_type": "code",
   "execution_count": 420,
   "metadata": {},
   "outputs": [],
   "source": [
    "sorted_wc = sorted(wordcounts_better.items(), key=lambda x: x[1])"
   ]
  },
  {
   "cell_type": "code",
   "execution_count": 421,
   "metadata": {},
   "outputs": [
    {
     "data": {
      "image/png": "[encoded data removed]",
      "text/plain": [
       "<matplotlib.figure.Figure at 0x1d3ed4908>"
      ]
     },
     "metadata": {},
     "output_type": "display_data"
    }
   ],
   "source": [
    "plot_avg_counts_by_perc(sorted_wc, ylim=[0, 15])"
   ]
  },
  {
   "cell_type": "code",
   "execution_count": 422,
   "metadata": {},
   "outputs": [],
   "source": [
    "import random"
   ]
  },
  {
   "cell_type": "code",
   "execution_count": 423,
   "metadata": {},
   "outputs": [],
   "source": [
    "def sample_words(sorted_wc, n, perc_range):\n",
    "    return random.sample(sorted_wc[int(perc_range[0] * len(sorted_wc)):int(perc_range[1] * len(sorted_wc))], n)"
   ]
  },
  {
   "cell_type": "code",
   "execution_count": 424,
   "metadata": {},
   "outputs": [
    {
     "data": {
      "text/plain": [
       "[('arms', 75),\n",
       " ('generous', 61),\n",
       " ('rock', 529),\n",
       " ('chal', 1),\n",
       " ('squib.', 1),\n",
       " ('antwones', 1),\n",
       " ('accord', 3),\n",
       " ('out', 9978),\n",
       " ('pooh', 3),\n",
       " ('globetrotting', 4)]"
      ]
     },
     "execution_count": 424,
     "metadata": {},
     "output_type": "execute_result"
    }
   ],
   "source": [
    "sample_words(sorted_wc, 10, [0, 5])"
   ]
  },
  {
   "cell_type": "code",
   "execution_count": 140,
   "metadata": {},
   "outputs": [],
   "source": [
    "wordcounts_1 = get_wordcounts(df['try1'])"
   ]
  },
  {
   "cell_type": "code",
   "execution_count": 425,
   "metadata": {},
   "outputs": [],
   "source": [
    "fake_counts = {w: 1 for w, _ in bad_train_dict.items()}\n"
   ]
  },
  {
   "cell_type": "code",
   "execution_count": 426,
   "metadata": {},
   "outputs": [
    {
     "data": {
      "text/html": [
       "<div>\n",
       "<table border=\"1\" class=\"dataframe\">\n",
       "  <thead>\n",
       "    <tr style=\"text-align: right;\">\n",
       "      <th></th>\n",
       "      <th>0</th>\n",
       "      <th>1</th>\n",
       "      <th>2</th>\n",
       "    </tr>\n",
       "  </thead>\n",
       "  <tbody>\n",
       "    <tr>\n",
       "      <th>\b\b\b\ba</th>\n",
       "      <td>1.0</td>\n",
       "      <td>1.0</td>\n",
       "      <td>1.0</td>\n",
       "    </tr>\n",
       "    <tr>\n",
       "      <th>!</th>\n",
       "      <td>15369.0</td>\n",
       "      <td>15501.0</td>\n",
       "      <td>1.0</td>\n",
       "    </tr>\n",
       "    <tr>\n",
       "      <th>#</th>\n",
       "      <td>157.0</td>\n",
       "      <td>157.0</td>\n",
       "      <td>1.0</td>\n",
       "    </tr>\n",
       "    <tr>\n",
       "      <th>$</th>\n",
       "      <td>492.0</td>\n",
       "      <td>500.0</td>\n",
       "      <td>1.0</td>\n",
       "    </tr>\n",
       "    <tr>\n",
       "      <th>%</th>\n",
       "      <td>273.0</td>\n",
       "      <td>276.0</td>\n",
       "      <td>1.0</td>\n",
       "    </tr>\n",
       "    <tr>\n",
       "      <th>&amp;</th>\n",
       "      <td>1964.0</td>\n",
       "      <td>1986.0</td>\n",
       "      <td>1.0</td>\n",
       "    </tr>\n",
       "    <tr>\n",
       "      <th>'</th>\n",
       "      <td>5620.0</td>\n",
       "      <td>5640.0</td>\n",
       "      <td>1.0</td>\n",
       "    </tr>\n",
       "    <tr>\n",
       "      <th>''</th>\n",
       "      <td>19948.0</td>\n",
       "      <td>20225.0</td>\n",
       "      <td>1.0</td>\n",
       "    </tr>\n",
       "    <tr>\n",
       "      <th>''a</th>\n",
       "      <td>1.0</td>\n",
       "      <td>1.0</td>\n",
       "      <td>1.0</td>\n",
       "    </tr>\n",
       "    <tr>\n",
       "      <th>''bad</th>\n",
       "      <td>1.0</td>\n",
       "      <td>1.0</td>\n",
       "      <td>1.0</td>\n",
       "    </tr>\n",
       "    <tr>\n",
       "      <th>''dark</th>\n",
       "      <td>1.0</td>\n",
       "      <td>1.0</td>\n",
       "      <td>1.0</td>\n",
       "    </tr>\n",
       "    <tr>\n",
       "      <th>''empire</th>\n",
       "      <td>1.0</td>\n",
       "      <td>1.0</td>\n",
       "      <td>1.0</td>\n",
       "    </tr>\n",
       "    <tr>\n",
       "      <th>''family</th>\n",
       "      <td>1.0</td>\n",
       "      <td>1.0</td>\n",
       "      <td>1.0</td>\n",
       "    </tr>\n",
       "    <tr>\n",
       "      <th>''gaslight</th>\n",
       "      <td>1.0</td>\n",
       "      <td>1.0</td>\n",
       "      <td>1.0</td>\n",
       "    </tr>\n",
       "    <tr>\n",
       "      <th>''heart</th>\n",
       "      <td>1.0</td>\n",
       "      <td>1.0</td>\n",
       "      <td>1.0</td>\n",
       "    </tr>\n",
       "    <tr>\n",
       "      <th>''holy</th>\n",
       "      <td>1.0</td>\n",
       "      <td>1.0</td>\n",
       "      <td>1.0</td>\n",
       "    </tr>\n",
       "    <tr>\n",
       "      <th>''human</th>\n",
       "      <td>1.0</td>\n",
       "      <td>1.0</td>\n",
       "      <td>1.0</td>\n",
       "    </tr>\n",
       "    <tr>\n",
       "      <th>''if</th>\n",
       "      <td>1.0</td>\n",
       "      <td>1.0</td>\n",
       "      <td>1.0</td>\n",
       "    </tr>\n",
       "    <tr>\n",
       "      <th>''ned</th>\n",
       "      <td>1.0</td>\n",
       "      <td>1.0</td>\n",
       "      <td>1.0</td>\n",
       "    </tr>\n",
       "    <tr>\n",
       "      <th>''nice</th>\n",
       "      <td>1.0</td>\n",
       "      <td>1.0</td>\n",
       "      <td>1.0</td>\n",
       "    </tr>\n",
       "    <tr>\n",
       "      <th>''oh</th>\n",
       "      <td>2.0</td>\n",
       "      <td>2.0</td>\n",
       "      <td>1.0</td>\n",
       "    </tr>\n",
       "    <tr>\n",
       "      <th>''peeping</th>\n",
       "      <td>1.0</td>\n",
       "      <td>1.0</td>\n",
       "      <td>1.0</td>\n",
       "    </tr>\n",
       "    <tr>\n",
       "      <th>''professionals</th>\n",
       "      <td>1.0</td>\n",
       "      <td>1.0</td>\n",
       "      <td>1.0</td>\n",
       "    </tr>\n",
       "    <tr>\n",
       "      <th>''ranma</th>\n",
       "      <td>1.0</td>\n",
       "      <td>1.0</td>\n",
       "      <td>1.0</td>\n",
       "    </tr>\n",
       "    <tr>\n",
       "      <th>''raptors</th>\n",
       "      <td>1.0</td>\n",
       "      <td>1.0</td>\n",
       "      <td>1.0</td>\n",
       "    </tr>\n",
       "    <tr>\n",
       "      <th>''return</th>\n",
       "      <td>1.0</td>\n",
       "      <td>1.0</td>\n",
       "      <td>1.0</td>\n",
       "    </tr>\n",
       "    <tr>\n",
       "      <th>''saint</th>\n",
       "      <td>1.0</td>\n",
       "      <td>1.0</td>\n",
       "      <td>1.0</td>\n",
       "    </tr>\n",
       "    <tr>\n",
       "      <th>''scarface</th>\n",
       "      <td>2.0</td>\n",
       "      <td>2.0</td>\n",
       "      <td>1.0</td>\n",
       "    </tr>\n",
       "    <tr>\n",
       "      <th>''sea</th>\n",
       "      <td>2.0</td>\n",
       "      <td>2.0</td>\n",
       "      <td>1.0</td>\n",
       "    </tr>\n",
       "    <tr>\n",
       "      <th>''terrorists</th>\n",
       "      <td>1.0</td>\n",
       "      <td>1.0</td>\n",
       "      <td>1.0</td>\n",
       "    </tr>\n",
       "    <tr>\n",
       "      <th>...</th>\n",
       "      <td>...</td>\n",
       "      <td>...</td>\n",
       "      <td>...</td>\n",
       "    </tr>\n",
       "    <tr>\n",
       "      <th>¾</th>\n",
       "      <td>1.0</td>\n",
       "      <td>1.0</td>\n",
       "      <td>1.0</td>\n",
       "    </tr>\n",
       "    <tr>\n",
       "      <th>¿acting</th>\n",
       "      <td>1.0</td>\n",
       "      <td>1.0</td>\n",
       "      <td>1.0</td>\n",
       "    </tr>\n",
       "    <tr>\n",
       "      <th>¿remember</th>\n",
       "      <td>1.0</td>\n",
       "      <td>1.0</td>\n",
       "      <td>1.0</td>\n",
       "    </tr>\n",
       "    <tr>\n",
       "      <th>¿special</th>\n",
       "      <td>1.0</td>\n",
       "      <td>1.0</td>\n",
       "      <td>1.0</td>\n",
       "    </tr>\n",
       "    <tr>\n",
       "      <th>à</th>\n",
       "      <td>14.0</td>\n",
       "      <td>12.0</td>\n",
       "      <td>1.0</td>\n",
       "    </tr>\n",
       "    <tr>\n",
       "      <th>álvaro</th>\n",
       "      <td>1.0</td>\n",
       "      <td>1.0</td>\n",
       "      <td>1.0</td>\n",
       "    </tr>\n",
       "    <tr>\n",
       "      <th>ángel</th>\n",
       "      <td>1.0</td>\n",
       "      <td>1.0</td>\n",
       "      <td>1.0</td>\n",
       "    </tr>\n",
       "    <tr>\n",
       "      <th>ángela</th>\n",
       "      <td>1.0</td>\n",
       "      <td>1.0</td>\n",
       "      <td>1.0</td>\n",
       "    </tr>\n",
       "    <tr>\n",
       "      <th>är</th>\n",
       "      <td>1.0</td>\n",
       "      <td>1.0</td>\n",
       "      <td>1.0</td>\n",
       "    </tr>\n",
       "    <tr>\n",
       "      <th>ääliöt</th>\n",
       "      <td>1.0</td>\n",
       "      <td>1.0</td>\n",
       "      <td>1.0</td>\n",
       "    </tr>\n",
       "    <tr>\n",
       "      <th>äänekoski</th>\n",
       "      <td>1.0</td>\n",
       "      <td>1.0</td>\n",
       "      <td>1.0</td>\n",
       "    </tr>\n",
       "    <tr>\n",
       "      <th>åmål</th>\n",
       "      <td>1.0</td>\n",
       "      <td>1.0</td>\n",
       "      <td>1.0</td>\n",
       "    </tr>\n",
       "    <tr>\n",
       "      <th>écran</th>\n",
       "      <td>1.0</td>\n",
       "      <td>1.0</td>\n",
       "      <td>1.0</td>\n",
       "    </tr>\n",
       "    <tr>\n",
       "      <th>élan</th>\n",
       "      <td>NaN</td>\n",
       "      <td>1.0</td>\n",
       "      <td>1.0</td>\n",
       "    </tr>\n",
       "    <tr>\n",
       "      <th>émigré</th>\n",
       "      <td>4.0</td>\n",
       "      <td>4.0</td>\n",
       "      <td>1.0</td>\n",
       "    </tr>\n",
       "    <tr>\n",
       "      <th>émigrés</th>\n",
       "      <td>1.0</td>\n",
       "      <td>1.0</td>\n",
       "      <td>1.0</td>\n",
       "    </tr>\n",
       "    <tr>\n",
       "      <th>était</th>\n",
       "      <td>2.0</td>\n",
       "      <td>2.0</td>\n",
       "      <td>1.0</td>\n",
       "    </tr>\n",
       "    <tr>\n",
       "      <th>étc</th>\n",
       "      <td>1.0</td>\n",
       "      <td>1.0</td>\n",
       "      <td>1.0</td>\n",
       "    </tr>\n",
       "    <tr>\n",
       "      <th>évery</th>\n",
       "      <td>1.0</td>\n",
       "      <td>1.0</td>\n",
       "      <td>1.0</td>\n",
       "    </tr>\n",
       "    <tr>\n",
       "      <th>ís</th>\n",
       "      <td>1.0</td>\n",
       "      <td>1.0</td>\n",
       "      <td>1.0</td>\n",
       "    </tr>\n",
       "    <tr>\n",
       "      <th>ísnt</th>\n",
       "      <td>1.0</td>\n",
       "      <td>1.0</td>\n",
       "      <td>1.0</td>\n",
       "    </tr>\n",
       "    <tr>\n",
       "      <th>über</th>\n",
       "      <td>2.0</td>\n",
       "      <td>1.0</td>\n",
       "      <td>1.0</td>\n",
       "    </tr>\n",
       "    <tr>\n",
       "      <th>über-annoying</th>\n",
       "      <td>NaN</td>\n",
       "      <td>1.0</td>\n",
       "      <td>1.0</td>\n",
       "    </tr>\n",
       "    <tr>\n",
       "      <th>üvegtigris</th>\n",
       "      <td>1.0</td>\n",
       "      <td>1.0</td>\n",
       "      <td>1.0</td>\n",
       "    </tr>\n",
       "    <tr>\n",
       "      <th>–</th>\n",
       "      <td>35.0</td>\n",
       "      <td>35.0</td>\n",
       "      <td>1.0</td>\n",
       "    </tr>\n",
       "    <tr>\n",
       "      <th>‘</th>\n",
       "      <td>1.0</td>\n",
       "      <td>1.0</td>\n",
       "      <td>1.0</td>\n",
       "    </tr>\n",
       "    <tr>\n",
       "      <th>’</th>\n",
       "      <td>37.0</td>\n",
       "      <td>38.0</td>\n",
       "      <td>1.0</td>\n",
       "    </tr>\n",
       "    <tr>\n",
       "      <th>“</th>\n",
       "      <td>10.0</td>\n",
       "      <td>10.0</td>\n",
       "      <td>1.0</td>\n",
       "    </tr>\n",
       "    <tr>\n",
       "      <th>”</th>\n",
       "      <td>9.0</td>\n",
       "      <td>9.0</td>\n",
       "      <td>1.0</td>\n",
       "    </tr>\n",
       "    <tr>\n",
       "      <th>₤100</th>\n",
       "      <td>1.0</td>\n",
       "      <td>1.0</td>\n",
       "      <td>1.0</td>\n",
       "    </tr>\n",
       "  </tbody>\n",
       "</table>\n",
       "<p>89022 rows × 3 columns</p>\n",
       "</div>"
      ],
      "text/plain": [
       "                       0        1    2\n",
       "\b\b\b\ba                1.0      1.0  1.0\n",
       "!                15369.0  15501.0  1.0\n",
       "#                  157.0    157.0  1.0\n",
       "$                  492.0    500.0  1.0\n",
       "%                  273.0    276.0  1.0\n",
       "&                 1964.0   1986.0  1.0\n",
       "'                 5620.0   5640.0  1.0\n",
       "''               19948.0  20225.0  1.0\n",
       "''a                  1.0      1.0  1.0\n",
       "''bad                1.0      1.0  1.0\n",
       "''dark               1.0      1.0  1.0\n",
       "''empire             1.0      1.0  1.0\n",
       "''family             1.0      1.0  1.0\n",
       "''gaslight           1.0      1.0  1.0\n",
       "''heart              1.0      1.0  1.0\n",
       "''holy               1.0      1.0  1.0\n",
       "''human              1.0      1.0  1.0\n",
       "''if                 1.0      1.0  1.0\n",
       "''ned                1.0      1.0  1.0\n",
       "''nice               1.0      1.0  1.0\n",
       "''oh                 2.0      2.0  1.0\n",
       "''peeping            1.0      1.0  1.0\n",
       "''professionals      1.0      1.0  1.0\n",
       "''ranma              1.0      1.0  1.0\n",
       "''raptors            1.0      1.0  1.0\n",
       "''return             1.0      1.0  1.0\n",
       "''saint              1.0      1.0  1.0\n",
       "''scarface           2.0      2.0  1.0\n",
       "''sea                2.0      2.0  1.0\n",
       "''terrorists         1.0      1.0  1.0\n",
       "...                  ...      ...  ...\n",
       "¾                    1.0      1.0  1.0\n",
       "¿acting              1.0      1.0  1.0\n",
       "¿remember            1.0      1.0  1.0\n",
       "¿special             1.0      1.0  1.0\n",
       "à                   14.0     12.0  1.0\n",
       "álvaro               1.0      1.0  1.0\n",
       "ángel                1.0      1.0  1.0\n",
       "ángela               1.0      1.0  1.0\n",
       "är                   1.0      1.0  1.0\n",
       "ääliöt               1.0      1.0  1.0\n",
       "äänekoski            1.0      1.0  1.0\n",
       "åmål                 1.0      1.0  1.0\n",
       "écran                1.0      1.0  1.0\n",
       "élan                 NaN      1.0  1.0\n",
       "émigré               4.0      4.0  1.0\n",
       "émigrés              1.0      1.0  1.0\n",
       "était                2.0      2.0  1.0\n",
       "étc                  1.0      1.0  1.0\n",
       "évery                1.0      1.0  1.0\n",
       "ís                   1.0      1.0  1.0\n",
       "ísnt                 1.0      1.0  1.0\n",
       "über                 2.0      1.0  1.0\n",
       "über-annoying        NaN      1.0  1.0\n",
       "üvegtigris           1.0      1.0  1.0\n",
       "–                   35.0     35.0  1.0\n",
       "‘                    1.0      1.0  1.0\n",
       "’                   37.0     38.0  1.0\n",
       "“                   10.0     10.0  1.0\n",
       "”                    9.0      9.0  1.0\n",
       "₤100                 1.0      1.0  1.0\n",
       "\n",
       "[89022 rows x 3 columns]"
      ]
     },
     "execution_count": 426,
     "metadata": {},
     "output_type": "execute_result"
    }
   ],
   "source": [
    "pd.concat([pd.Series(wordcounts_better), pd.Series(wordcounts_worse), pd.Series(fake_counts)], axis=1)"
   ]
  },
  {
   "cell_type": "code",
   "execution_count": 213,
   "metadata": {},
   "outputs": [
    {
     "data": {
      "text/plain": [
       "\b\b\b\ba            30948    1\n",
       "!                26       1\n",
       "#                1018     1\n",
       "$                1715     1\n",
       "%                7013     1\n",
       "&                122      1\n",
       "'                832      1\n",
       "''               41       1\n",
       "''a              59008    1\n",
       "''bad            19307    1\n",
       "''dark           23370    1\n",
       "''empire         25627    1\n",
       "''family         53377    1\n",
       "''gaslight       54334    1\n",
       "''heart          75800    1\n",
       "''holy           68349    1\n",
       "''human          75799    1\n",
       "''if             67166    1\n",
       "''ned            55224    1\n",
       "''nice           46554    1\n",
       "''oh             83513    1\n",
       "''peeping        33026    1\n",
       "''professionals  68686    1\n",
       "''ranma          56385    1\n",
       "''raptors        78574    1\n",
       "''return         25628    1\n",
       "''saint          33021    1\n",
       "''scarface       58142    1\n",
       "''sea            11501    1\n",
       "''terrorists     78573    1\n",
       "                         ..\n",
       "¾                72077    1\n",
       "¿acting          82158    1\n",
       "¿remember        57286    1\n",
       "¿special         82157    1\n",
       "à                29237    1\n",
       "álvaro           15814    1\n",
       "ángel            15803    1\n",
       "ángela           49409    1\n",
       "är               42549    1\n",
       "ääliöt           57532    1\n",
       "äänekoski        8385     1\n",
       "åmål             72904    1\n",
       "écran            7231     1\n",
       "élan             40755    1\n",
       "émigré           34258    1\n",
       "émigrés          10823    1\n",
       "était            37406    1\n",
       "étc              25838    1\n",
       "évery            67588    1\n",
       "ís               23154    1\n",
       "ísnt             80078    1\n",
       "über             86671    1\n",
       "über-annoying    73648    1\n",
       "üvegtigris       75290    1\n",
       "–                36759    1\n",
       "‘                51933    1\n",
       "’                17568    1\n",
       "“                17564    1\n",
       "”                17565    1\n",
       "₤100             67609    1\n",
       "dtype: int64"
      ]
     },
     "execution_count": 213,
     "metadata": {},
     "output_type": "execute_result"
    }
   ],
   "source": [
    "pd.Series(fake_counts)"
   ]
  },
  {
   "cell_type": "code",
   "execution_count": 187,
   "metadata": {},
   "outputs": [
    {
     "name": "stdout",
     "output_type": "stream",
     "text": [
      "unaccompanied\n",
      "ltas\n",
      "lambast\n",
      "feinstein\n",
      "testings\n",
      "grifting\n",
      "slashers\n",
      "amphlett\n",
      "mail\n",
      "view.it\n"
     ]
    }
   ],
   "source": [
    "import random\n",
    "print(\"\\n\".join(random.sample(wordcounts_better.keys(), 10)))"
   ]
  },
  {
   "cell_type": "code",
   "execution_count": 195,
   "metadata": {},
   "outputs": [
    {
     "name": "stdout",
     "output_type": "stream",
     "text": [
      "digressing\n",
      "distillery\n",
      "feardotcom\n",
      "wolhiem\n",
      "'marry\n",
      "brosnan.\n",
      "anonymous\n",
      "friggin\n",
      "out-of-focus\n",
      "eislin\n"
     ]
    }
   ],
   "source": [
    "print(\"\\n\".join(random.sample(wordcounts_worse.keys(), 10)))"
   ]
  },
  {
   "cell_type": "code",
   "execution_count": 134,
   "metadata": {},
   "outputs": [
    {
     "name": "stdout",
     "output_type": "stream",
     "text": [
      "94143 words with better parsing vs. 114526 words with worse parsing\n"
     ]
    }
   ],
   "source": [
    "print(\"%d words with better parsing vs. %d words with worse parsing\" %\n",
    "        (len(wordcounts_better.keys()), len(wordcounts_worse.keys())))"
   ]
  },
  {
   "cell_type": "code",
   "execution_count": 30,
   "metadata": {},
   "outputs": [
    {
     "data": {
      "image/png": "[encoded data removed]",
      "text/plain": [
       "<matplotlib.figure.Figure at 0x123130908>"
      ]
     },
     "metadata": {},
     "output_type": "display_data"
    }
   ],
   "source": [
    "counts = [count for word, count in wordcounts_better.items()]\n",
    "plt.hist(counts, bins=100, log=True)\n",
    "plt.title('Histogram of word frequencies')\n",
    "plt.show()"
   ]
  }
 ],
 "metadata": {
  "kernelspec": {
   "display_name": "Python 3",
   "language": "python",
   "name": "python3"
  },
  "language_info": {
   "codemirror_mode": {
    "name": "ipython",
    "version": 3
   },
   "file_extension": ".py",
   "mimetype": "text/x-python",
   "name": "python",
   "nbconvert_exporter": "python",
   "pygments_lexer": "ipython3",
   "version": "3.6.4"
  }
 },
 "nbformat": 4,
 "nbformat_minor": 2
}
